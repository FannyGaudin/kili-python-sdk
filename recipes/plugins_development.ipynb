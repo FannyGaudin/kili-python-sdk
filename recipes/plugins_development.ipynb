{
 "cells": [
  {
   "cell_type": "markdown",
   "metadata": {},
   "source": [
    "## Preliminary\n",
    "\n",
    "This notebook explains you how to build your 1st plugin. The plugin is a Python script uploaded which will be triggered based on an event you define. For instance you can trigger a plugin each time a labeler click on submit.\n",
    "The plugin should have separate methods for the different types of events : at the moment these are *onSubmit* and *onReview*. These methods will have a predefined set of parameters\n",
    "\n",
    "The final plugin will have a global instance of *kili* that you can use directly (it will be instantiated with a separate *API_KEY* belonging to the plugin)\n",
    "\n",
    "Therefore, the skeleton of the plugin should be :\n",
    "\n",
    "```python\n",
    "def onSubmit(label, projectId, assetId):\n",
    "    \"\"\"\n",
    "    Function called when a DEFAULT label is submitted by a labeler\n",
    "\n",
    "    Parameters\n",
    "    ----------\n",
    "    label : dict\n",
    "        A dictionary that has the most important fields of a Label: \n",
    "            [id, jsonResponse, authorId, labelType, createdAt, secondsToLabel] \n",
    "            and some technical fields\n",
    "    projectId : string\n",
    "        The id of the project that the plugin runs on.\n",
    "    assetId : string\n",
    "        The id of the asset that the plugin runs on.\n",
    "    \"\"\"\n",
    "    pass\n",
    "\n",
    "def onReview(label, projectId, assetId):\n",
    "    \"\"\"\n",
    "    Function called when a REVIEW label is submitted by a reviewer\n",
    "\n",
    "    Parameters\n",
    "    ----------\n",
    "    label : dict\n",
    "        A dictionary that has the most important fields of a Label: \n",
    "            [id, jsonResponse, authorId, labelType, createdAt, secondsToLabel] \n",
    "            and some technical fields\n",
    "    projectId : string\n",
    "        The id of the project that the plugin runs on.\n",
    "    assetId : string\n",
    "        The id of the asset that the plugin runs on.\n",
    "    \"\"\"\n",
    "    pass\n",
    "```\n",
    "\n",
    "**IMPORTANT** : Imports of packages inside the plugin are not permitted at the moment (except for `numpy`)."
   ]
  },
  {
   "cell_type": "markdown",
   "metadata": {},
   "source": [
    "## Instantiate Kili with your personal API_KEY"
   ]
  },
  {
   "cell_type": "code",
   "execution_count": null,
   "metadata": {},
   "outputs": [],
   "source": [
    "#%pip install kili\n",
    "\n",
    "from kili.client import Kili\n",
    "import os\n",
    "\n",
    "api_endpoint = os.getenv('KILI_API_ENDPOINT')\n",
    "# If you use Kili SaaS, use the url 'https://cloud.kili-technology.com/api/label/v2/graphql'\n",
    "# api_endpoint = 'https://cloud.kili-technology.com/api/label/v2/graphql'\n",
    "\n",
    "api_key = input()\n",
    "\n",
    "kili = Kili(api_endpoint=api_endpoint, api_key=api_key)"
   ]
  },
  {
   "cell_type": "markdown",
   "metadata": {},
   "source": [
    "## Develop your future plugin\n",
    "\n",
    "The first step is to define the functions that will be called when the event is triggered. You will be able to iterate on these functions locally with the help of the next section. \n",
    "\n",
    "This cell should be the content of the `.py` file that you will upload as a plugin at the end."
   ]
  },
  {
   "cell_type": "code",
   "execution_count": null,
   "metadata": {},
   "outputs": [],
   "source": [
    "def onSubmit(label, projectId, assetId):\n",
    "    \"\"\"\n",
    "    Function called when a DEFAULT label is submitted by a labeler\n",
    "\n",
    "    Parameters\n",
    "    ----------\n",
    "    label : dict\n",
    "        A dictionary that has the most important fields of a Label: \n",
    "            [id, jsonResponse, authorId, labelType, createdAt, secondsToLabel] \n",
    "            and some technical fields\n",
    "    projectId : string\n",
    "        The id of the project that the plugin runs on.\n",
    "    assetId : string\n",
    "        The id of the asset that the plugin runs on.\n",
    "    \"\"\"\n",
    "    #print(label, projectId, assetId)\n",
    "    pass\n",
    "\n",
    "def onReview(label, projectId, assetId):\n",
    "    \"\"\"\n",
    "    Function called when a REVIEW label is submitted by a reviewer\n",
    "\n",
    "    Parameters\n",
    "    ----------\n",
    "    label : dict\n",
    "        A dictionary that has the most important fields of a Label: \n",
    "            [id, jsonResponse, authorId, labelType, createdAt, secondsToLabel] \n",
    "            and some technical fields\n",
    "    projectId : string\n",
    "        The id of the project that the plugin runs on.\n",
    "    assetId : string\n",
    "        The id of the asset that the plugin runs on.\n",
    "    \"\"\"\n",
    "    #print(label, projectId, assetId)\n",
    "    #print(label[\"unexisting_field\"]) # will throw error - to see an example how error messages will be in the logs\n",
    "    pass"
   ]
  },
  {
   "cell_type": "markdown",
   "metadata": {},
   "source": [
    "### Testing locally the plugin\n",
    "\n",
    "This section will allow you to test your plugin locally before uploading it."
   ]
  },
  {
   "cell_type": "code",
   "execution_count": null,
   "metadata": {},
   "outputs": [],
   "source": [
    "import traceback\n",
    "\n",
    "def runPlugin(label, project_id, asset_id, call_on_submit = True, call_on_review = True):\n",
    "    \"\"\"\n",
    "    This function is a wrapper around the actual onSubmit and onReview functions.\n",
    "    In case there is an error, it will catch it and print its name. The trace of the\n",
    "    error will not be saved in the actual logs of the plugin that you will be able to\n",
    "    retrieve after uploading the plugin, but here they will be printed to help you\n",
    "    in the development of the plugin.\n",
    "\n",
    "    If you want to have the full trace of the error, you can call directly the functions\n",
    "    onSubmit and onReview without using this wrapper, for example :\n",
    "    >>> onSubmit(projectId=project_id,assetId=asset_id,label=label)\n",
    "\n",
    "    You can also pass the values of call_on_submit and call_on_review to test\n",
    "    only certain events.\n",
    "    \"\"\"\n",
    "    try:\n",
    "        if call_on_submit:\n",
    "            onSubmit(projectId=project_id,assetId=asset_id,label=label)\n",
    "\n",
    "        if call_on_review:\n",
    "            onReview(projectId=project_id,assetId=asset_id,label=label)\n",
    "    except Exception as e:\n",
    "        print(repr(e))\n",
    "        traceback.print_exc() # This will not be saved in the logs of the actual plugin,\n",
    "                              # but it can help when iterating over the development of the plugin\n",
    "\n",
    "def get_label(label_id, project_id):\n",
    "    \"\"\"\n",
    "    Function to get the object Label with the same keys as it will be in the plugin\n",
    "    \"\"\"\n",
    "    label = kili.labels(\n",
    "            project_id=project_id,\n",
    "            label_id=label_id,\n",
    "            fields=['id', 'jsonResponse', 'author.id', 'labelType', 'createdAt', 'secondsToLabel']\n",
    "        )[0]\n",
    "\n",
    "    label['authorId'] = label['author']['id']\n",
    "    del label['author']\n",
    "    return label"
   ]
  },
  {
   "cell_type": "markdown",
   "metadata": {},
   "source": [
    "### Test the plugin run\n",
    "\n",
    "If you already have created a project for testing and there are some labels created, you can use directly their ids and use the following cell. Otherwise, you can follow the notebook *plugins_example.ipynb* to create a new project, upload an asset and an associated label."
   ]
  },
  {
   "cell_type": "code",
   "execution_count": null,
   "metadata": {},
   "outputs": [],
   "source": [
    "project_id = ''\n",
    "asset_id = ''\n",
    "label_id = ''\n",
    "\n",
    "label = get_label(label_id=label_id, project_id=project_id)\n",
    "\n",
    "runPlugin(project_id=project_id, asset_id=asset_id,label=label)"
   ]
  },
  {
   "cell_type": "markdown",
   "metadata": {},
   "source": [
    "## Uploading the plugin\n",
    "Once you finished writing and testing your functions, you can upload this plugin to Kili and activate it on a project (you can re-use the same plugin on different projects if needed).\n",
    "\n",
    "First, you have to create a python file (for example `plugin.py`), and copy inside only the functions of the plugin (the content of the cell *Develop your future plugin*). You do not need any other info related to the *Kili* instance since it wil be present globally.\n",
    "\n",
    "Then, you can use the python sdk or the CLI to import this plugin :"
   ]
  },
  {
   "cell_type": "code",
   "execution_count": null,
   "metadata": {},
   "outputs": [],
   "source": [
    "path_to_plugin = 'path/to/file/plugin.py'\n",
    "plugin_name = 'plugin name'\n",
    "project_id = 'project_id'\n",
    "\n",
    "kili.upload_plugin_beta(path_to_plugin, plugin_name)\n",
    "\n",
    "kili.activate_plugin_on_project(plugin_name, project_id=project_id)"
   ]
  },
  {
   "cell_type": "markdown",
   "metadata": {},
   "source": [
    "## Monitoring the plugin\n",
    "Important to know is that the creation of the plugin takes some time (around 5 minutes), so after that time the plugin will begin to be run (if labeling events will be triggered on this project) and you will be able to get the logs of the runs. To do that, you can use:"
   ]
  },
  {
   "cell_type": "code",
   "execution_count": null,
   "metadata": {},
   "outputs": [],
   "source": [
    "import json\n",
    "from datetime import date\n",
    "from datetime import datetime\n",
    "dt = date.today()  # You can change this date if needed\n",
    "start_date = datetime.combine(dt, datetime.min.time())\n",
    "\n",
    "logs = kili.get_plugin_logs(project_id=project_id, plugin_name=plugin_name, start_date=start_date)\n",
    "\n",
    "logs_json = json.loads(logs)\n",
    "print(json.dumps(logs_json, indent=4))"
   ]
  },
  {
   "cell_type": "markdown",
   "metadata": {},
   "source": [
    "## Managing your plugin\n",
    "You also have several other methods to manage your plugins and their lifecycle."
   ]
  },
  {
   "cell_type": "code",
   "execution_count": null,
   "metadata": {},
   "outputs": [],
   "source": [
    "# Get the list of all uploaded plugins in your organization\n",
    "plugins = kili.list_plugins()"
   ]
  },
  {
   "cell_type": "code",
   "execution_count": null,
   "metadata": {},
   "outputs": [],
   "source": [
    "# Get the status of a plugin\n",
    "status = kili.get_plugin_status(plugin_name=plugin_name)"
   ]
  },
  {
   "cell_type": "code",
   "execution_count": null,
   "metadata": {},
   "outputs": [],
   "source": [
    "# Update a plugin with new source code\n",
    "updated_path = 'path/to/updated/file.py'\n",
    "kili.update_plugin(plugin_name=plugin_name, file_path=updated_path)"
   ]
  },
  {
   "cell_type": "code",
   "execution_count": null,
   "metadata": {},
   "outputs": [],
   "source": [
    "# Deactivate the plugin on a certain project (the plugin can still be active for other projects)\n",
    "kili.deactivate_plugin_on_project(plugin_name=plugin_name, project_id=project_id)"
   ]
  },
  {
   "cell_type": "code",
   "execution_count": null,
   "metadata": {},
   "outputs": [],
   "source": [
    "# Delete the plugin completely (deactivates automatically the plugin from all projects)\n",
    "kili.delete_plugin(plugin_name=plugin_name)"
   ]
  }
 ],
 "metadata": {
  "kernelspec": {
   "display_name": "Python 3.9.7 ('python3')",
   "language": "python",
   "name": "python3"
  },
  "language_info": {
   "codemirror_mode": {
    "name": "ipython",
    "version": 3
   },
   "file_extension": ".py",
   "mimetype": "text/x-python",
   "name": "python",
   "nbconvert_exporter": "python",
   "pygments_lexer": "ipython3",
   "version": "3.9.7"
  },
  "vscode": {
   "interpreter": {
    "hash": "ea53c95e0226e60024720596fecaafdf2410458bd9b7ff07d6b89a8a369660c5"
   }
  }
 },
 "nbformat": 4,
 "nbformat_minor": 2
}
