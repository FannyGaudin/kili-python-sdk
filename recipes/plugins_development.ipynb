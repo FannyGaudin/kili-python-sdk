{
 "cells": [
  {
   "cell_type": "markdown",
   "metadata": {},
   "source": [
    "## Preliminary\n",
    "\n",
    "This notebook explains you how to build your 1st plugin. The plugin is a Python script uploaded which will be triggered based on an event you define. For instance you can trigger a plugin each time a labeler click on submit with the `on_submit` handler\n",
    "The plugin should have separate methods for the different types of events : at the moment these are *on_submit* and *on_review*. These methods will have a predefined set of parameters\n",
    "\n",
    "\n",
    "Therefore, the skeleton of the plugin should be :\n",
    "\n",
    "```python\n",
    "from kili.plugins import PluginCore\n",
    "from kili.types import Label\n",
    "\n",
    "class Plugin(PluginCore):\n",
    "    \"\"\"\n",
    "    Custom plugin instance\n",
    "    \"\"\"\n",
    "\n",
    "    def handle_label(self):\n",
    "        #custom methods \n",
    "        print('Custom method handle label')\n",
    "\n",
    "    def on_review(self, label: Label, project_id: str, asset_id: str) -> None:\n",
    "        \"\"\"\n",
    "        Dedicated handler for Review action \n",
    "        \"\"\"\n",
    "        return super().on_review(label, project_id, asset_id)\n",
    "\n",
    "    def on_submit(self, label: Label, project_id: str, asset_id: str) -> None:\n",
    "        \"\"\"\n",
    "        Dedicated handler for Review action \n",
    "        \"\"\"\n",
    "        # Use kili for actions with \n",
    "        print(self.kili.count_projects(project_id=project_id))\n",
    "        print('On submit called')\n",
    "        self.handle_label()\n",
    "\n",
    "```\n",
    "\n",
    "**IMPORTANT** : Imports of packages inside the plugin are not permitted at the moment (except for `numpy`)."
   ]
  },
  {
   "cell_type": "markdown",
   "metadata": {},
   "source": [
    "## Instantiate Kili with your personal API_KEY"
   ]
  },
  {
   "cell_type": "code",
   "execution_count": 1,
   "metadata": {},
   "outputs": [
    {
     "name": "stderr",
     "output_type": "stream",
     "text": [
      "/Users/philippedesaintchamas/opt/anaconda3/envs/plugins/lib/python3.8/site-packages/kili/authentication.py:103: UserWarning: Kili Python SDK version should match with Kili API version.\n",
      "Please install version: \"pip install kili==2.125.0\"\n",
      "  warnings.warn(message, UserWarning)\n"
     ]
    }
   ],
   "source": [
    "#%pip install kili\n",
    "\n",
    "from kili.client import Kili\n",
    "import os\n",
    "\n",
    "api_endpoint = os.getenv('KILI_API_ENDPOINT')\n",
    "# If you use Kili SaaS, use the url 'https://cloud.kili-technology.com/api/label/v2/graphql'\n",
    "api_endpoint = 'https://staging.cloud.kili-technology.com/api/label/v2/graphql'\n",
    "\n",
    "api_key = os.getenv('KILI_ADMIN_API_KEY_STAGING')\n",
    "\n",
    "kili = Kili(api_endpoint=api_endpoint, api_key=api_key)"
   ]
  },
  {
   "cell_type": "markdown",
   "metadata": {},
   "source": [
    "## Develop your future plugin\n",
    "\n",
    "The first step is to define the functions that will be called when the event is triggered. You will be able to iterate on these functions locally with the help of the next section. \n",
    "\n",
    "This cell should be the content of the `.py` file that you will upload as a plugin at the end."
   ]
  },
  {
   "cell_type": "code",
   "execution_count": 2,
   "metadata": {},
   "outputs": [],
   "source": [
    "from kili.plugins import PluginCore\n",
    "from kili.types import Label\n",
    "\n",
    "class Plugin(PluginCore):\n",
    "    \"\"\"\n",
    "    Custom plugin instance\n",
    "    \"\"\"\n",
    "\n",
    "    def handle_label(self):\n",
    "        #custom methods \n",
    "        print('Custom method handle label')\n",
    "\n",
    "    def on_review(self, label: Label, project_id: str, asset_id: str) -> None:\n",
    "        \"\"\"\n",
    "        Dedicated handler for Review action \n",
    "        \"\"\"\n",
    "        return super().on_review(label, project_id, asset_id)\n",
    "\n",
    "    def on_submit(self, label: Label, project_id: str, asset_id: str) -> None:\n",
    "        \"\"\"\n",
    "        Dedicated handler for Review action \n",
    "        \"\"\"\n",
    "        # Use kili for actions with \n",
    "        print(self.kili.count_projects(project_id=project_id))\n",
    "        print('On submit called')\n",
    "        self.handle_label()"
   ]
  },
  {
   "cell_type": "markdown",
   "metadata": {},
   "source": [
    "### Testing locally the plugin\n",
    "\n",
    "This section will allow you to test your plugin locally before uploading it."
   ]
  },
  {
   "cell_type": "code",
   "execution_count": 3,
   "metadata": {},
   "outputs": [],
   "source": [
    "import traceback\n",
    "\n",
    "# instantiate the plugin\n",
    "my_plugin_instance = Plugin(kili)\n",
    "\n",
    "def runPlugin(label, project_id, asset_id, call_on_submit = True, call_on_review = True):\n",
    "    \"\"\"\n",
    "    This function is a wrapper around the actual onSubmit and onReview functions.\n",
    "    In case there is an error, it will catch it and print its name. The trace of the\n",
    "    error will not be saved in the actual logs of the plugin that you will be able to\n",
    "    retrieve after uploading the plugin, but here they will be printed to help you\n",
    "    in the development of the plugin.\n",
    "\n",
    "    If you want to have the full trace of the error, you can call directly the functions\n",
    "    onSubmit and onReview without using this wrapper, for example :\n",
    "    >>> onSubmit(projectId=project_id,assetId=asset_id,label=label)\n",
    "\n",
    "    You can also pass the values of call_on_submit and call_on_review to test\n",
    "    only certain events.\n",
    "    \"\"\"\n",
    "    try:\n",
    "        if call_on_submit:\n",
    "            my_plugin_instance.on_submit(project_id=project_id,asset_id=asset_id,label=label)\n",
    "\n",
    "        if call_on_review:\n",
    "            my_plugin_instance.on_review(project_id=project_id,asset_id=asset_id,label=label)\n",
    "    except Exception as e:\n",
    "        print(repr(e))\n",
    "        traceback.print_exc() # This will not be saved in the logs of the actual plugin,\n",
    "                              # but it can help when iterating over the development of the plugin\n",
    "\n",
    "def get_label(label_id, project_id):\n",
    "    \"\"\"\n",
    "    Function to get the object Label with the same keys as it will be in the plugin\n",
    "    \"\"\"\n",
    "    label = kili.labels(\n",
    "            project_id=project_id,\n",
    "            label_id=label_id,\n",
    "            fields=['id', 'jsonResponse', 'author.id', 'labelType', 'createdAt', 'secondsToLabel']\n",
    "        )[0]\n",
    "\n",
    "    label['authorId'] = label['author']['id']\n",
    "    del label['author']\n",
    "    return label"
   ]
  },
  {
   "cell_type": "markdown",
   "metadata": {},
   "source": [
    "### Test the plugin run\n",
    "\n",
    "If you already have created a project for testing and there are some labels created, you can use directly their ids and use the following cell. Otherwise, you can follow the notebook *plugins_example.ipynb* to create a new project, upload an asset and an associated label."
   ]
  },
  {
   "cell_type": "code",
   "execution_count": 4,
   "metadata": {},
   "outputs": [
    {
     "name": "stderr",
     "output_type": "stream",
     "text": [
      "  0%|          | 100/159150 [00:04<1:55:50, 22.88it/s]\n"
     ]
    },
    {
     "ename": "KeyboardInterrupt",
     "evalue": "",
     "output_type": "error",
     "traceback": [
      "\u001b[0;31m---------------------------------------------------------------------------\u001b[0m",
      "\u001b[0;31mKeyboardInterrupt\u001b[0m                         Traceback (most recent call last)",
      "Cell \u001b[0;32mIn [4], line 5\u001b[0m\n\u001b[1;32m      2\u001b[0m asset_id \u001b[39m=\u001b[39m \u001b[39m'\u001b[39m\u001b[39m'\u001b[39m\n\u001b[1;32m      3\u001b[0m label_id \u001b[39m=\u001b[39m \u001b[39m'\u001b[39m\u001b[39m'\u001b[39m\n\u001b[0;32m----> 5\u001b[0m label \u001b[39m=\u001b[39m get_label(label_id\u001b[39m=\u001b[39;49mlabel_id, project_id\u001b[39m=\u001b[39;49mproject_id)\n\u001b[1;32m      7\u001b[0m runPlugin(project_id\u001b[39m=\u001b[39mproject_id, asset_id\u001b[39m=\u001b[39masset_id,label\u001b[39m=\u001b[39mlabel)\n",
      "Cell \u001b[0;32mIn [3], line 36\u001b[0m, in \u001b[0;36mget_label\u001b[0;34m(label_id, project_id)\u001b[0m\n\u001b[1;32m     32\u001b[0m \u001b[39mdef\u001b[39;00m \u001b[39mget_label\u001b[39m(label_id, project_id):\n\u001b[1;32m     33\u001b[0m     \u001b[39m\"\"\"\u001b[39;00m\n\u001b[1;32m     34\u001b[0m \u001b[39m    Function to get the object Label with the same keys as it will be in the plugin\u001b[39;00m\n\u001b[1;32m     35\u001b[0m \u001b[39m    \"\"\"\u001b[39;00m\n\u001b[0;32m---> 36\u001b[0m     label \u001b[39m=\u001b[39m kili\u001b[39m.\u001b[39;49mlabels(\n\u001b[1;32m     37\u001b[0m             project_id\u001b[39m=\u001b[39;49mproject_id,\n\u001b[1;32m     38\u001b[0m             label_id\u001b[39m=\u001b[39;49mlabel_id,\n\u001b[1;32m     39\u001b[0m             fields\u001b[39m=\u001b[39;49m[\u001b[39m'\u001b[39;49m\u001b[39mid\u001b[39;49m\u001b[39m'\u001b[39;49m, \u001b[39m'\u001b[39;49m\u001b[39mjsonResponse\u001b[39;49m\u001b[39m'\u001b[39;49m, \u001b[39m'\u001b[39;49m\u001b[39mauthor.id\u001b[39;49m\u001b[39m'\u001b[39;49m, \u001b[39m'\u001b[39;49m\u001b[39mlabelType\u001b[39;49m\u001b[39m'\u001b[39;49m, \u001b[39m'\u001b[39;49m\u001b[39mcreatedAt\u001b[39;49m\u001b[39m'\u001b[39;49m, \u001b[39m'\u001b[39;49m\u001b[39msecondsToLabel\u001b[39;49m\u001b[39m'\u001b[39;49m]\n\u001b[1;32m     40\u001b[0m         )[\u001b[39m0\u001b[39m]\n\u001b[1;32m     42\u001b[0m     label[\u001b[39m'\u001b[39m\u001b[39mauthorId\u001b[39m\u001b[39m'\u001b[39m] \u001b[39m=\u001b[39m label[\u001b[39m'\u001b[39m\u001b[39mauthor\u001b[39m\u001b[39m'\u001b[39m][\u001b[39m'\u001b[39m\u001b[39mid\u001b[39m\u001b[39m'\u001b[39m]\n\u001b[1;32m     43\u001b[0m     \u001b[39mdel\u001b[39;00m label[\u001b[39m'\u001b[39m\u001b[39mauthor\u001b[39m\u001b[39m'\u001b[39m]\n",
      "File \u001b[0;32m~/opt/anaconda3/envs/plugins/lib/python3.8/site-packages/typeguard/__init__.py:1033\u001b[0m, in \u001b[0;36mtypechecked.<locals>.wrapper\u001b[0;34m(*args, **kwargs)\u001b[0m\n\u001b[1;32m   1031\u001b[0m memo \u001b[39m=\u001b[39m _CallMemo(python_func, _localns, args\u001b[39m=\u001b[39margs, kwargs\u001b[39m=\u001b[39mkwargs)\n\u001b[1;32m   1032\u001b[0m check_argument_types(memo)\n\u001b[0;32m-> 1033\u001b[0m retval \u001b[39m=\u001b[39m func(\u001b[39m*\u001b[39;49margs, \u001b[39m*\u001b[39;49m\u001b[39m*\u001b[39;49mkwargs)\n\u001b[1;32m   1034\u001b[0m \u001b[39mtry\u001b[39;00m:\n\u001b[1;32m   1035\u001b[0m     check_return_type(retval, memo)\n",
      "File \u001b[0;32m~/opt/anaconda3/envs/plugins/lib/python3.8/site-packages/kili/queries/label/__init__.py:184\u001b[0m, in \u001b[0;36mQueriesLabel.labels\u001b[0;34m(self, project_id, asset_id, asset_status_in, asset_external_id_in, author_in, created_at, created_at_gte, created_at_lte, fields, first, honeypot_mark_gte, honeypot_mark_lte, id_contains, label_id, skip, type_in, user_id, disable_tqdm, as_generator, category_search)\u001b[0m\n\u001b[1;32m    182\u001b[0m \u001b[39mif\u001b[39;00m as_generator:\n\u001b[1;32m    183\u001b[0m     \u001b[39mreturn\u001b[39;00m labels_generator\n\u001b[0;32m--> 184\u001b[0m \u001b[39mreturn\u001b[39;00m \u001b[39mlist\u001b[39;49m(labels_generator)\n",
      "File \u001b[0;32m~/opt/anaconda3/envs/plugins/lib/python3.8/site-packages/kili/utils/pagination.py:57\u001b[0m, in \u001b[0;36mrow_generator_from_paginated_calls\u001b[0;34m(skip, first, count_method, count_kwargs, paged_call_method, paged_call_payload, fields, disable_tqdm, post_call_process)\u001b[0m\n\u001b[1;32m     55\u001b[0m \u001b[39mwith\u001b[39;00m tqdm(total\u001b[39m=\u001b[39mcount_rows_queried_total, disable\u001b[39m=\u001b[39mdisable_tqdm) \u001b[39mas\u001b[39;00m pbar:\n\u001b[1;32m     56\u001b[0m     \u001b[39mwhile\u001b[39;00m \u001b[39mTrue\u001b[39;00m:\n\u001b[0;32m---> 57\u001b[0m         rows \u001b[39m=\u001b[39m api_throttle(paged_call_method)(\n\u001b[1;32m     58\u001b[0m             count_rows_retrieved \u001b[39m+\u001b[39;49m skip,\n\u001b[1;32m     59\u001b[0m             count_rows_query_default,\n\u001b[1;32m     60\u001b[0m             paged_call_payload,\n\u001b[1;32m     61\u001b[0m             fields,\n\u001b[1;32m     62\u001b[0m         )\n\u001b[1;32m     64\u001b[0m         \u001b[39mif\u001b[39;00m rows \u001b[39mis\u001b[39;00m \u001b[39mNone\u001b[39;00m \u001b[39mor\u001b[39;00m \u001b[39mlen\u001b[39m(rows) \u001b[39m==\u001b[39m \u001b[39m0\u001b[39m:\n\u001b[1;32m     65\u001b[0m             \u001b[39mbreak\u001b[39;00m\n",
      "File \u001b[0;32m~/opt/anaconda3/envs/plugins/lib/python3.8/site-packages/kili/utils/pagination.py:127\u001b[0m, in \u001b[0;36mapi_throttle.<locals>.throttled_wrapper\u001b[0;34m(*args, **kwargs)\u001b[0m\n\u001b[1;32m    124\u001b[0m \u001b[39m@functools\u001b[39m\u001b[39m.\u001b[39mwraps(func)\n\u001b[1;32m    125\u001b[0m \u001b[39mdef\u001b[39;00m \u001b[39mthrottled_wrapper\u001b[39m(\u001b[39m*\u001b[39margs, \u001b[39m*\u001b[39m\u001b[39m*\u001b[39mkwargs):\n\u001b[1;32m    126\u001b[0m     call_start \u001b[39m=\u001b[39m time\u001b[39m.\u001b[39mtime()\n\u001b[0;32m--> 127\u001b[0m     result \u001b[39m=\u001b[39m func(\u001b[39m*\u001b[39;49margs, \u001b[39m*\u001b[39;49m\u001b[39m*\u001b[39;49mkwargs)\n\u001b[1;32m    128\u001b[0m     call_duration \u001b[39m=\u001b[39m time\u001b[39m.\u001b[39mtime() \u001b[39m-\u001b[39m call_start\n\u001b[1;32m    129\u001b[0m     \u001b[39mif\u001b[39;00m call_duration \u001b[39m<\u001b[39m THROTTLING_DELAY:\n",
      "File \u001b[0;32m~/opt/anaconda3/envs/plugins/lib/python3.8/site-packages/kili/queries/label/__init__.py:191\u001b[0m, in \u001b[0;36mQueriesLabel._query_labels\u001b[0;34m(self, skip, first, payload, fields)\u001b[0m\n\u001b[1;32m    189\u001b[0m payload\u001b[39m.\u001b[39mupdate({\u001b[39m\"\u001b[39m\u001b[39mskip\u001b[39m\u001b[39m\"\u001b[39m: skip, \u001b[39m\"\u001b[39m\u001b[39mfirst\u001b[39m\u001b[39m\"\u001b[39m: first})\n\u001b[1;32m    190\u001b[0m _gql_labels \u001b[39m=\u001b[39m gql_labels(fragment_builder(fields, LabelType))\n\u001b[0;32m--> 191\u001b[0m result \u001b[39m=\u001b[39m \u001b[39mself\u001b[39;49m\u001b[39m.\u001b[39;49mauth\u001b[39m.\u001b[39;49mclient\u001b[39m.\u001b[39;49mexecute(_gql_labels, payload)\n\u001b[1;32m    192\u001b[0m \u001b[39mreturn\u001b[39;00m format_result(\u001b[39m\"\u001b[39m\u001b[39mdata\u001b[39m\u001b[39m\"\u001b[39m, result, _object\u001b[39m=\u001b[39mList[LabelType])\n",
      "File \u001b[0;32m~/opt/anaconda3/envs/plugins/lib/python3.8/site-packages/kili/graphql_client.py:53\u001b[0m, in \u001b[0;36mGraphQLClient.execute\u001b[0;34m(self, query, variables)\u001b[0m\n\u001b[1;32m     45\u001b[0m \u001b[39mdef\u001b[39;00m \u001b[39mexecute\u001b[39m(\u001b[39mself\u001b[39m, query, variables\u001b[39m=\u001b[39m\u001b[39mNone\u001b[39;00m):\n\u001b[1;32m     46\u001b[0m     \u001b[39m\"\"\"\u001b[39;00m\n\u001b[1;32m     47\u001b[0m \u001b[39m    Execute a query\u001b[39;00m\n\u001b[1;32m     48\u001b[0m \n\u001b[0;32m   (...)\u001b[0m\n\u001b[1;32m     51\u001b[0m \u001b[39m        variables\u001b[39;00m\n\u001b[1;32m     52\u001b[0m \u001b[39m    \"\"\"\u001b[39;00m\n\u001b[0;32m---> 53\u001b[0m     \u001b[39mreturn\u001b[39;00m \u001b[39mself\u001b[39;49m\u001b[39m.\u001b[39;49m_send(query, variables)\n",
      "File \u001b[0;32m~/opt/anaconda3/envs/plugins/lib/python3.8/site-packages/kili/graphql_client.py:91\u001b[0m, in \u001b[0;36mGraphQLClient._send\u001b[0;34m(self, query, variables)\u001b[0m\n\u001b[1;32m     89\u001b[0m \u001b[39mtry\u001b[39;00m:\n\u001b[1;32m     90\u001b[0m     \u001b[39mself\u001b[39m\u001b[39m.\u001b[39msession\u001b[39m.\u001b[39mverify \u001b[39m=\u001b[39m \u001b[39mself\u001b[39m\u001b[39m.\u001b[39mverify\n\u001b[0;32m---> 91\u001b[0m     req \u001b[39m=\u001b[39m \u001b[39mself\u001b[39;49m\u001b[39m.\u001b[39;49msession\u001b[39m.\u001b[39;49mpost(\n\u001b[1;32m     92\u001b[0m         \u001b[39mself\u001b[39;49m\u001b[39m.\u001b[39;49mendpoint, json\u001b[39m.\u001b[39;49mdumps(data)\u001b[39m.\u001b[39;49mencode(\u001b[39m\"\u001b[39;49m\u001b[39mutf-8\u001b[39;49m\u001b[39m\"\u001b[39;49m), headers\u001b[39m=\u001b[39;49mheaders\n\u001b[1;32m     93\u001b[0m     )\n\u001b[1;32m     94\u001b[0m     \u001b[39mif\u001b[39;00m req\u001b[39m.\u001b[39mstatus_code \u001b[39m==\u001b[39m \u001b[39m401\u001b[39m:\n\u001b[1;32m     95\u001b[0m         \u001b[39mraise\u001b[39;00m \u001b[39mException\u001b[39;00m(\u001b[39m\"\u001b[39m\u001b[39mInvalid API KEY\u001b[39m\u001b[39m\"\u001b[39m)\n",
      "File \u001b[0;32m~/opt/anaconda3/envs/plugins/lib/python3.8/site-packages/requests/sessions.py:635\u001b[0m, in \u001b[0;36mSession.post\u001b[0;34m(self, url, data, json, **kwargs)\u001b[0m\n\u001b[1;32m    624\u001b[0m \u001b[39mdef\u001b[39;00m \u001b[39mpost\u001b[39m(\u001b[39mself\u001b[39m, url, data\u001b[39m=\u001b[39m\u001b[39mNone\u001b[39;00m, json\u001b[39m=\u001b[39m\u001b[39mNone\u001b[39;00m, \u001b[39m*\u001b[39m\u001b[39m*\u001b[39mkwargs):\n\u001b[1;32m    625\u001b[0m     \u001b[39mr\u001b[39m\u001b[39m\"\"\"Sends a POST request. Returns :class:`Response` object.\u001b[39;00m\n\u001b[1;32m    626\u001b[0m \n\u001b[1;32m    627\u001b[0m \u001b[39m    :param url: URL for the new :class:`Request` object.\u001b[39;00m\n\u001b[0;32m   (...)\u001b[0m\n\u001b[1;32m    632\u001b[0m \u001b[39m    :rtype: requests.Response\u001b[39;00m\n\u001b[1;32m    633\u001b[0m \u001b[39m    \"\"\"\u001b[39;00m\n\u001b[0;32m--> 635\u001b[0m     \u001b[39mreturn\u001b[39;00m \u001b[39mself\u001b[39;49m\u001b[39m.\u001b[39;49mrequest(\u001b[39m\"\u001b[39;49m\u001b[39mPOST\u001b[39;49m\u001b[39m\"\u001b[39;49m, url, data\u001b[39m=\u001b[39;49mdata, json\u001b[39m=\u001b[39;49mjson, \u001b[39m*\u001b[39;49m\u001b[39m*\u001b[39;49mkwargs)\n",
      "File \u001b[0;32m~/opt/anaconda3/envs/plugins/lib/python3.8/site-packages/requests/sessions.py:587\u001b[0m, in \u001b[0;36mSession.request\u001b[0;34m(self, method, url, params, data, headers, cookies, files, auth, timeout, allow_redirects, proxies, hooks, stream, verify, cert, json)\u001b[0m\n\u001b[1;32m    582\u001b[0m send_kwargs \u001b[39m=\u001b[39m {\n\u001b[1;32m    583\u001b[0m     \u001b[39m\"\u001b[39m\u001b[39mtimeout\u001b[39m\u001b[39m\"\u001b[39m: timeout,\n\u001b[1;32m    584\u001b[0m     \u001b[39m\"\u001b[39m\u001b[39mallow_redirects\u001b[39m\u001b[39m\"\u001b[39m: allow_redirects,\n\u001b[1;32m    585\u001b[0m }\n\u001b[1;32m    586\u001b[0m send_kwargs\u001b[39m.\u001b[39mupdate(settings)\n\u001b[0;32m--> 587\u001b[0m resp \u001b[39m=\u001b[39m \u001b[39mself\u001b[39;49m\u001b[39m.\u001b[39;49msend(prep, \u001b[39m*\u001b[39;49m\u001b[39m*\u001b[39;49msend_kwargs)\n\u001b[1;32m    589\u001b[0m \u001b[39mreturn\u001b[39;00m resp\n",
      "File \u001b[0;32m~/opt/anaconda3/envs/plugins/lib/python3.8/site-packages/requests/sessions.py:745\u001b[0m, in \u001b[0;36mSession.send\u001b[0;34m(self, request, **kwargs)\u001b[0m\n\u001b[1;32m    742\u001b[0m         \u001b[39mpass\u001b[39;00m\n\u001b[1;32m    744\u001b[0m \u001b[39mif\u001b[39;00m \u001b[39mnot\u001b[39;00m stream:\n\u001b[0;32m--> 745\u001b[0m     r\u001b[39m.\u001b[39;49mcontent\n\u001b[1;32m    747\u001b[0m \u001b[39mreturn\u001b[39;00m r\n",
      "File \u001b[0;32m~/opt/anaconda3/envs/plugins/lib/python3.8/site-packages/requests/models.py:899\u001b[0m, in \u001b[0;36mResponse.content\u001b[0;34m(self)\u001b[0m\n\u001b[1;32m    897\u001b[0m         \u001b[39mself\u001b[39m\u001b[39m.\u001b[39m_content \u001b[39m=\u001b[39m \u001b[39mNone\u001b[39;00m\n\u001b[1;32m    898\u001b[0m     \u001b[39melse\u001b[39;00m:\n\u001b[0;32m--> 899\u001b[0m         \u001b[39mself\u001b[39m\u001b[39m.\u001b[39m_content \u001b[39m=\u001b[39m \u001b[39mb\u001b[39;49m\u001b[39m\"\u001b[39;49m\u001b[39m\"\u001b[39;49m\u001b[39m.\u001b[39;49mjoin(\u001b[39mself\u001b[39;49m\u001b[39m.\u001b[39;49miter_content(CONTENT_CHUNK_SIZE)) \u001b[39mor\u001b[39;00m \u001b[39mb\u001b[39m\u001b[39m\"\u001b[39m\u001b[39m\"\u001b[39m\n\u001b[1;32m    901\u001b[0m \u001b[39mself\u001b[39m\u001b[39m.\u001b[39m_content_consumed \u001b[39m=\u001b[39m \u001b[39mTrue\u001b[39;00m\n\u001b[1;32m    902\u001b[0m \u001b[39m# don't need to release the connection; that's been handled by urllib3\u001b[39;00m\n\u001b[1;32m    903\u001b[0m \u001b[39m# since we exhausted the data.\u001b[39;00m\n",
      "File \u001b[0;32m~/opt/anaconda3/envs/plugins/lib/python3.8/site-packages/requests/models.py:816\u001b[0m, in \u001b[0;36mResponse.iter_content.<locals>.generate\u001b[0;34m()\u001b[0m\n\u001b[1;32m    814\u001b[0m \u001b[39mif\u001b[39;00m \u001b[39mhasattr\u001b[39m(\u001b[39mself\u001b[39m\u001b[39m.\u001b[39mraw, \u001b[39m\"\u001b[39m\u001b[39mstream\u001b[39m\u001b[39m\"\u001b[39m):\n\u001b[1;32m    815\u001b[0m     \u001b[39mtry\u001b[39;00m:\n\u001b[0;32m--> 816\u001b[0m         \u001b[39myield from\u001b[39;00m \u001b[39mself\u001b[39m\u001b[39m.\u001b[39mraw\u001b[39m.\u001b[39mstream(chunk_size, decode_content\u001b[39m=\u001b[39m\u001b[39mTrue\u001b[39;00m)\n\u001b[1;32m    817\u001b[0m     \u001b[39mexcept\u001b[39;00m ProtocolError \u001b[39mas\u001b[39;00m e:\n\u001b[1;32m    818\u001b[0m         \u001b[39mraise\u001b[39;00m ChunkedEncodingError(e)\n",
      "File \u001b[0;32m~/opt/anaconda3/envs/plugins/lib/python3.8/site-packages/urllib3/response.py:627\u001b[0m, in \u001b[0;36mHTTPResponse.stream\u001b[0;34m(self, amt, decode_content)\u001b[0m\n\u001b[1;32m    625\u001b[0m \u001b[39melse\u001b[39;00m:\n\u001b[1;32m    626\u001b[0m     \u001b[39mwhile\u001b[39;00m \u001b[39mnot\u001b[39;00m is_fp_closed(\u001b[39mself\u001b[39m\u001b[39m.\u001b[39m_fp):\n\u001b[0;32m--> 627\u001b[0m         data \u001b[39m=\u001b[39m \u001b[39mself\u001b[39;49m\u001b[39m.\u001b[39;49mread(amt\u001b[39m=\u001b[39;49mamt, decode_content\u001b[39m=\u001b[39;49mdecode_content)\n\u001b[1;32m    629\u001b[0m         \u001b[39mif\u001b[39;00m data:\n\u001b[1;32m    630\u001b[0m             \u001b[39myield\u001b[39;00m data\n",
      "File \u001b[0;32m~/opt/anaconda3/envs/plugins/lib/python3.8/site-packages/urllib3/response.py:566\u001b[0m, in \u001b[0;36mHTTPResponse.read\u001b[0;34m(self, amt, decode_content, cache_content)\u001b[0m\n\u001b[1;32m    563\u001b[0m fp_closed \u001b[39m=\u001b[39m \u001b[39mgetattr\u001b[39m(\u001b[39mself\u001b[39m\u001b[39m.\u001b[39m_fp, \u001b[39m\"\u001b[39m\u001b[39mclosed\u001b[39m\u001b[39m\"\u001b[39m, \u001b[39mFalse\u001b[39;00m)\n\u001b[1;32m    565\u001b[0m \u001b[39mwith\u001b[39;00m \u001b[39mself\u001b[39m\u001b[39m.\u001b[39m_error_catcher():\n\u001b[0;32m--> 566\u001b[0m     data \u001b[39m=\u001b[39m \u001b[39mself\u001b[39;49m\u001b[39m.\u001b[39;49m_fp_read(amt) \u001b[39mif\u001b[39;00m \u001b[39mnot\u001b[39;00m fp_closed \u001b[39melse\u001b[39;00m \u001b[39mb\u001b[39m\u001b[39m\"\u001b[39m\u001b[39m\"\u001b[39m\n\u001b[1;32m    567\u001b[0m     \u001b[39mif\u001b[39;00m amt \u001b[39mis\u001b[39;00m \u001b[39mNone\u001b[39;00m:\n\u001b[1;32m    568\u001b[0m         flush_decoder \u001b[39m=\u001b[39m \u001b[39mTrue\u001b[39;00m\n",
      "File \u001b[0;32m~/opt/anaconda3/envs/plugins/lib/python3.8/site-packages/urllib3/response.py:532\u001b[0m, in \u001b[0;36mHTTPResponse._fp_read\u001b[0;34m(self, amt)\u001b[0m\n\u001b[1;32m    529\u001b[0m     \u001b[39mreturn\u001b[39;00m buffer\u001b[39m.\u001b[39mgetvalue()\n\u001b[1;32m    530\u001b[0m \u001b[39melse\u001b[39;00m:\n\u001b[1;32m    531\u001b[0m     \u001b[39m# StringIO doesn't like amt=None\u001b[39;00m\n\u001b[0;32m--> 532\u001b[0m     \u001b[39mreturn\u001b[39;00m \u001b[39mself\u001b[39;49m\u001b[39m.\u001b[39;49m_fp\u001b[39m.\u001b[39;49mread(amt) \u001b[39mif\u001b[39;00m amt \u001b[39mis\u001b[39;00m \u001b[39mnot\u001b[39;00m \u001b[39mNone\u001b[39;00m \u001b[39melse\u001b[39;00m \u001b[39mself\u001b[39m\u001b[39m.\u001b[39m_fp\u001b[39m.\u001b[39mread()\n",
      "File \u001b[0;32m~/opt/anaconda3/envs/plugins/lib/python3.8/http/client.py:459\u001b[0m, in \u001b[0;36mHTTPResponse.read\u001b[0;34m(self, amt)\u001b[0m\n\u001b[1;32m    456\u001b[0m \u001b[39mif\u001b[39;00m amt \u001b[39mis\u001b[39;00m \u001b[39mnot\u001b[39;00m \u001b[39mNone\u001b[39;00m:\n\u001b[1;32m    457\u001b[0m     \u001b[39m# Amount is given, implement using readinto\u001b[39;00m\n\u001b[1;32m    458\u001b[0m     b \u001b[39m=\u001b[39m \u001b[39mbytearray\u001b[39m(amt)\n\u001b[0;32m--> 459\u001b[0m     n \u001b[39m=\u001b[39m \u001b[39mself\u001b[39;49m\u001b[39m.\u001b[39;49mreadinto(b)\n\u001b[1;32m    460\u001b[0m     \u001b[39mreturn\u001b[39;00m \u001b[39mmemoryview\u001b[39m(b)[:n]\u001b[39m.\u001b[39mtobytes()\n\u001b[1;32m    461\u001b[0m \u001b[39melse\u001b[39;00m:\n\u001b[1;32m    462\u001b[0m     \u001b[39m# Amount is not given (unbounded read) so we must check self.length\u001b[39;00m\n\u001b[1;32m    463\u001b[0m     \u001b[39m# and self.chunked\u001b[39;00m\n",
      "File \u001b[0;32m~/opt/anaconda3/envs/plugins/lib/python3.8/http/client.py:503\u001b[0m, in \u001b[0;36mHTTPResponse.readinto\u001b[0;34m(self, b)\u001b[0m\n\u001b[1;32m    498\u001b[0m         b \u001b[39m=\u001b[39m \u001b[39mmemoryview\u001b[39m(b)[\u001b[39m0\u001b[39m:\u001b[39mself\u001b[39m\u001b[39m.\u001b[39mlength]\n\u001b[1;32m    500\u001b[0m \u001b[39m# we do not use _safe_read() here because this may be a .will_close\u001b[39;00m\n\u001b[1;32m    501\u001b[0m \u001b[39m# connection, and the user is reading more bytes than will be provided\u001b[39;00m\n\u001b[1;32m    502\u001b[0m \u001b[39m# (for example, reading in 1k chunks)\u001b[39;00m\n\u001b[0;32m--> 503\u001b[0m n \u001b[39m=\u001b[39m \u001b[39mself\u001b[39;49m\u001b[39m.\u001b[39;49mfp\u001b[39m.\u001b[39;49mreadinto(b)\n\u001b[1;32m    504\u001b[0m \u001b[39mif\u001b[39;00m \u001b[39mnot\u001b[39;00m n \u001b[39mand\u001b[39;00m b:\n\u001b[1;32m    505\u001b[0m     \u001b[39m# Ideally, we would raise IncompleteRead if the content-length\u001b[39;00m\n\u001b[1;32m    506\u001b[0m     \u001b[39m# wasn't satisfied, but it might break compatibility.\u001b[39;00m\n\u001b[1;32m    507\u001b[0m     \u001b[39mself\u001b[39m\u001b[39m.\u001b[39m_close_conn()\n",
      "File \u001b[0;32m~/opt/anaconda3/envs/plugins/lib/python3.8/socket.py:669\u001b[0m, in \u001b[0;36mSocketIO.readinto\u001b[0;34m(self, b)\u001b[0m\n\u001b[1;32m    667\u001b[0m \u001b[39mwhile\u001b[39;00m \u001b[39mTrue\u001b[39;00m:\n\u001b[1;32m    668\u001b[0m     \u001b[39mtry\u001b[39;00m:\n\u001b[0;32m--> 669\u001b[0m         \u001b[39mreturn\u001b[39;00m \u001b[39mself\u001b[39;49m\u001b[39m.\u001b[39;49m_sock\u001b[39m.\u001b[39;49mrecv_into(b)\n\u001b[1;32m    670\u001b[0m     \u001b[39mexcept\u001b[39;00m timeout:\n\u001b[1;32m    671\u001b[0m         \u001b[39mself\u001b[39m\u001b[39m.\u001b[39m_timeout_occurred \u001b[39m=\u001b[39m \u001b[39mTrue\u001b[39;00m\n",
      "File \u001b[0;32m~/opt/anaconda3/envs/plugins/lib/python3.8/ssl.py:1241\u001b[0m, in \u001b[0;36mSSLSocket.recv_into\u001b[0;34m(self, buffer, nbytes, flags)\u001b[0m\n\u001b[1;32m   1237\u001b[0m     \u001b[39mif\u001b[39;00m flags \u001b[39m!=\u001b[39m \u001b[39m0\u001b[39m:\n\u001b[1;32m   1238\u001b[0m         \u001b[39mraise\u001b[39;00m \u001b[39mValueError\u001b[39;00m(\n\u001b[1;32m   1239\u001b[0m           \u001b[39m\"\u001b[39m\u001b[39mnon-zero flags not allowed in calls to recv_into() on \u001b[39m\u001b[39m%s\u001b[39;00m\u001b[39m\"\u001b[39m \u001b[39m%\u001b[39m\n\u001b[1;32m   1240\u001b[0m           \u001b[39mself\u001b[39m\u001b[39m.\u001b[39m\u001b[39m__class__\u001b[39m)\n\u001b[0;32m-> 1241\u001b[0m     \u001b[39mreturn\u001b[39;00m \u001b[39mself\u001b[39;49m\u001b[39m.\u001b[39;49mread(nbytes, buffer)\n\u001b[1;32m   1242\u001b[0m \u001b[39melse\u001b[39;00m:\n\u001b[1;32m   1243\u001b[0m     \u001b[39mreturn\u001b[39;00m \u001b[39msuper\u001b[39m()\u001b[39m.\u001b[39mrecv_into(buffer, nbytes, flags)\n",
      "File \u001b[0;32m~/opt/anaconda3/envs/plugins/lib/python3.8/ssl.py:1099\u001b[0m, in \u001b[0;36mSSLSocket.read\u001b[0;34m(self, len, buffer)\u001b[0m\n\u001b[1;32m   1097\u001b[0m \u001b[39mtry\u001b[39;00m:\n\u001b[1;32m   1098\u001b[0m     \u001b[39mif\u001b[39;00m buffer \u001b[39mis\u001b[39;00m \u001b[39mnot\u001b[39;00m \u001b[39mNone\u001b[39;00m:\n\u001b[0;32m-> 1099\u001b[0m         \u001b[39mreturn\u001b[39;00m \u001b[39mself\u001b[39;49m\u001b[39m.\u001b[39;49m_sslobj\u001b[39m.\u001b[39;49mread(\u001b[39mlen\u001b[39;49m, buffer)\n\u001b[1;32m   1100\u001b[0m     \u001b[39melse\u001b[39;00m:\n\u001b[1;32m   1101\u001b[0m         \u001b[39mreturn\u001b[39;00m \u001b[39mself\u001b[39m\u001b[39m.\u001b[39m_sslobj\u001b[39m.\u001b[39mread(\u001b[39mlen\u001b[39m)\n",
      "\u001b[0;31mKeyboardInterrupt\u001b[0m: "
     ]
    }
   ],
   "source": [
    "project_id = ''\n",
    "asset_id = ''\n",
    "label_id = ''\n",
    "\n",
    "label = get_label(label_id=label_id, project_id=project_id)\n",
    "\n",
    "runPlugin(project_id=project_id, asset_id=asset_id,label=label)"
   ]
  },
  {
   "cell_type": "code",
   "execution_count": null,
   "metadata": {},
   "outputs": [],
   "source": [
    "path_to_plugin = 'path/to/file/plugin.py'\n",
    "plugin_name = 'plugin name'\n",
    "project_id = 'project_id'\n",
    "\n",
    "kili.upload_plugin_beta(path_to_plugin, plugin_name)\n",
    "\n",
    "kili.activate_plugin_on_project(plugin_name, project_id=project_id)"
   ]
  },
  {
   "cell_type": "markdown",
   "metadata": {},
   "source": [
    "## Monitoring the plugin\n",
    "Important to know is that the creation of the plugin takes some time (around 5 minutes), so after that time the plugin will begin to be run (if labeling events will be triggered on this project) and you will be able to get the logs of the runs. To do that, you can use:"
   ]
  },
  {
   "cell_type": "code",
   "execution_count": null,
   "metadata": {},
   "outputs": [],
   "source": [
    "import json\n",
    "from datetime import date\n",
    "from datetime import datetime\n",
    "dt = date.today()  # You can change this date if needed\n",
    "start_date = datetime.combine(dt, datetime.min.time())\n",
    "\n",
    "logs = kili.get_plugin_logs(project_id=project_id, plugin_name=plugin_name, start_date=start_date)\n",
    "\n",
    "logs_json = json.loads(logs)\n",
    "print(json.dumps(logs_json, indent=4))"
   ]
  },
  {
   "cell_type": "markdown",
   "metadata": {},
   "source": [
    "## Managing your plugin\n",
    "You also have several other methods to manage your plugins and their lifecycle."
   ]
  },
  {
   "cell_type": "code",
   "execution_count": 3,
   "metadata": {},
   "outputs": [],
   "source": [
    "# Get the list of all uploaded plugins in your organization\n",
    "plugins = kili.list_plugins()"
   ]
  },
  {
   "cell_type": "code",
   "execution_count": 4,
   "metadata": {},
   "outputs": [
    {
     "ename": "GraphQLError",
     "evalue": "error: \"[pluginsError] Error from label-plugin-runner -- This can be due to: 404: Not Found: createPluginRunner: Plugin [name: plugin] | trace : Error: 404: Not Found: createPluginRunner: Plugin [name: plugin]\n    at prettifyPluginsManagerError (/snapshot/app/dist/resolvers/pluginsManager/helpers.js)\n    at getPluginRunnerStatus (/snapshot/app/dist/resolvers/pluginsManager/queries.js)\n    at processTicksAndRejections (node:internal/process/task_queues:96:5)\n    at async /snapshot/app/dist/services/error/index.js\"",
     "output_type": "error",
     "traceback": [
      "\u001b[0;31m---------------------------------------------------------------------------\u001b[0m",
      "\u001b[0;31mGraphQLError\u001b[0m                              Traceback (most recent call last)",
      "\u001b[1;32m/Users/philippedesaintchamas/kili-projects/kili-python-sdk/recipes/plugins_development.ipynb Cellule 15\u001b[0m in \u001b[0;36m<cell line: 2>\u001b[0;34m()\u001b[0m\n\u001b[1;32m      <a href='vscode-notebook-cell:/Users/philippedesaintchamas/kili-projects/kili-python-sdk/recipes/plugins_development.ipynb#X21sZmlsZQ%3D%3D?line=0'>1</a>\u001b[0m \u001b[39m# Get the status of a plugin\u001b[39;00m\n\u001b[0;32m----> <a href='vscode-notebook-cell:/Users/philippedesaintchamas/kili-projects/kili-python-sdk/recipes/plugins_development.ipynb#X21sZmlsZQ%3D%3D?line=1'>2</a>\u001b[0m kili\u001b[39m.\u001b[39;49mget_plugin_status(plugin_name\u001b[39m=\u001b[39;49m\u001b[39m'\u001b[39;49m\u001b[39mplugin\u001b[39;49m\u001b[39m'\u001b[39;49m)\n",
      "File \u001b[0;32m~/opt/anaconda3/envs/plugins_oop/lib/python3.8/site-packages/typeguard/__init__.py:1033\u001b[0m, in \u001b[0;36mtypechecked.<locals>.wrapper\u001b[0;34m(*args, **kwargs)\u001b[0m\n\u001b[1;32m   1031\u001b[0m memo \u001b[39m=\u001b[39m _CallMemo(python_func, _localns, args\u001b[39m=\u001b[39margs, kwargs\u001b[39m=\u001b[39mkwargs)\n\u001b[1;32m   1032\u001b[0m check_argument_types(memo)\n\u001b[0;32m-> 1033\u001b[0m retval \u001b[39m=\u001b[39m func(\u001b[39m*\u001b[39;49margs, \u001b[39m*\u001b[39;49m\u001b[39m*\u001b[39;49mkwargs)\n\u001b[1;32m   1034\u001b[0m \u001b[39mtry\u001b[39;00m:\n\u001b[1;32m   1035\u001b[0m     check_return_type(retval, memo)\n",
      "File \u001b[0;32m~/kili-projects/kili-python-sdk/src/kili/queries/plugins/__init__.py:75\u001b[0m, in \u001b[0;36mQueriesPlugins.get_plugin_status\u001b[0;34m(self, plugin_name, verbose)\u001b[0m\n\u001b[1;32m     56\u001b[0m \u001b[39m@typechecked\u001b[39m\n\u001b[1;32m     57\u001b[0m \u001b[39mdef\u001b[39;00m \u001b[39mget_plugin_status\u001b[39m(\n\u001b[1;32m     58\u001b[0m     \u001b[39mself\u001b[39m,\n\u001b[1;32m     59\u001b[0m     plugin_name: \u001b[39mstr\u001b[39m,\n\u001b[1;32m     60\u001b[0m     verbose: \u001b[39mbool\u001b[39m \u001b[39m=\u001b[39m \u001b[39mTrue\u001b[39;00m,\n\u001b[1;32m     61\u001b[0m ):\n\u001b[1;32m     62\u001b[0m     \u001b[39m\"\"\"Update a plugin with new code.\u001b[39;00m\n\u001b[1;32m     63\u001b[0m \n\u001b[1;32m     64\u001b[0m \u001b[39m    Args:\u001b[39;00m\n\u001b[0;32m   (...)\u001b[0m\n\u001b[1;32m     72\u001b[0m \u001b[39m        >>> kili.get_plugin_status(plugin_name=\"my_plugin_name\")\u001b[39;00m\n\u001b[1;32m     73\u001b[0m \u001b[39m    \"\"\"\u001b[39;00m\n\u001b[0;32m---> 75\u001b[0m     result \u001b[39m=\u001b[39m PluginUploader(\u001b[39mself\u001b[39;49m\u001b[39m.\u001b[39;49mauth, \u001b[39m\"\u001b[39;49m\u001b[39m\"\u001b[39;49m, plugin_name, verbose)\u001b[39m.\u001b[39;49mget_plugin_runner_status()\n\u001b[1;32m     76\u001b[0m     \u001b[39mreturn\u001b[39;00m result\n",
      "File \u001b[0;32m~/kili-projects/kili-python-sdk/src/kili/services/plugins/upload.py:198\u001b[0m, in \u001b[0;36mPluginUploader.get_plugin_runner_status\u001b[0;34m(self)\u001b[0m\n\u001b[1;32m    194\u001b[0m variables \u001b[39m=\u001b[39m {\u001b[39m\"\u001b[39m\u001b[39mname\u001b[39m\u001b[39m\"\u001b[39m: \u001b[39mself\u001b[39m\u001b[39m.\u001b[39mplugin_name}\n\u001b[1;32m    196\u001b[0m result \u001b[39m=\u001b[39m \u001b[39mself\u001b[39m\u001b[39m.\u001b[39mauth\u001b[39m.\u001b[39mclient\u001b[39m.\u001b[39mexecute(GQL_GET_PLUGIN_RUNNER_STATUS, variables)\n\u001b[0;32m--> 198\u001b[0m \u001b[39mreturn\u001b[39;00m format_result(\u001b[39m\"\u001b[39;49m\u001b[39mdata\u001b[39;49m\u001b[39m\"\u001b[39;49m, result)\n",
      "File \u001b[0;32m~/kili-projects/kili-python-sdk/src/kili/helpers.py:35\u001b[0m, in \u001b[0;36mformat_result\u001b[0;34m(name, result, _object)\u001b[0m\n\u001b[1;32m     26\u001b[0m \u001b[39m\"\"\"\u001b[39;00m\n\u001b[1;32m     27\u001b[0m \u001b[39mFormats the result of the GraphQL queries.\u001b[39;00m\n\u001b[1;32m     28\u001b[0m \n\u001b[0;32m   (...)\u001b[0m\n\u001b[1;32m     32\u001b[0m \u001b[39m    _object: returned type\u001b[39;00m\n\u001b[1;32m     33\u001b[0m \u001b[39m\"\"\"\u001b[39;00m\n\u001b[1;32m     34\u001b[0m \u001b[39mif\u001b[39;00m \u001b[39m\"\u001b[39m\u001b[39merrors\u001b[39m\u001b[39m\"\u001b[39m \u001b[39min\u001b[39;00m result:\n\u001b[0;32m---> 35\u001b[0m     \u001b[39mraise\u001b[39;00m GraphQLError(result[\u001b[39m\"\u001b[39m\u001b[39merrors\u001b[39m\u001b[39m\"\u001b[39m])\n\u001b[1;32m     36\u001b[0m formatted_json \u001b[39m=\u001b[39m format_json(result[\u001b[39m\"\u001b[39m\u001b[39mdata\u001b[39m\u001b[39m\"\u001b[39m][name])\n\u001b[1;32m     37\u001b[0m \u001b[39mif\u001b[39;00m _object \u001b[39mis\u001b[39;00m \u001b[39mNone\u001b[39;00m:\n",
      "\u001b[0;31mGraphQLError\u001b[0m: error: \"[pluginsError] Error from label-plugin-runner -- This can be due to: 404: Not Found: createPluginRunner: Plugin [name: plugin] | trace : Error: 404: Not Found: createPluginRunner: Plugin [name: plugin]\n    at prettifyPluginsManagerError (/snapshot/app/dist/resolvers/pluginsManager/helpers.js)\n    at getPluginRunnerStatus (/snapshot/app/dist/resolvers/pluginsManager/queries.js)\n    at processTicksAndRejections (node:internal/process/task_queues:96:5)\n    at async /snapshot/app/dist/services/error/index.js\""
     ]
    }
   ],
   "source": [
    "# Get the status of a plugin\n",
    "kili.get_plugin_status(plugin_name='plugin')"
   ]
  },
  {
   "cell_type": "code",
   "execution_count": null,
   "metadata": {},
   "outputs": [],
   "source": [
    "# Update a plugin with new source code\n",
    "updated_path = 'path/to/updated/file.py'\n",
    "kili.update_plugin(plugin_name=plugin_name, file_path=updated_path)"
   ]
  },
  {
   "cell_type": "code",
   "execution_count": null,
   "metadata": {},
   "outputs": [],
   "source": [
    "# Deactivate the plugin on a certain project (the plugin can still be active for other projects)\n",
    "kili.deactivate_plugin_on_project(plugin_name=plugin_name, project_id=project_id)"
   ]
  },
  {
   "cell_type": "code",
   "execution_count": null,
   "metadata": {},
   "outputs": [],
   "source": [
    "# Delete the plugin completely (deactivates automatically the plugin from all projects)\n",
    "kili.delete_plugin(plugin_name=plugin_name)"
   ]
  },
  {
   "cell_type": "code",
   "execution_count": 8,
   "metadata": {},
   "outputs": [
    {
     "data": {
      "text/plain": [
       "[{'name': 'Load_test_plugin3',\n",
       "  'id': 'clagwpboh0001019jbbow4tw7',\n",
       "  'createdAt': '2022-11-14T14:54:17.441Z',\n",
       "  'updatedAt': '2022-11-14T14:55:49.455Z'},\n",
       " {'name': 'my_new_plugin_',\n",
       "  'id': 'clagyxq080001017j5k934yyb',\n",
       "  'createdAt': '2022-11-14T15:56:48.488Z',\n",
       "  'updatedAt': '2022-11-14T15:58:35.730Z'},\n",
       " {'name': 'plugin for list',\n",
       "  'id': 'clai4r585000501e750fd4id8',\n",
       "  'createdAt': '2022-11-15T11:27:25.493Z',\n",
       "  'updatedAt': '2022-11-15T11:29:12.635Z'},\n",
       " {'name': 'toto',\n",
       "  'id': 'clai0brir001d01811mxbfa6y',\n",
       "  'createdAt': '2022-11-15T09:23:29.427Z',\n",
       "  'updatedAt': '2022-11-15T09:25:02.313Z'}]"
      ]
     },
     "execution_count": 8,
     "metadata": {},
     "output_type": "execute_result"
    }
   ],
   "source": [
    "plugins"
   ]
  },
  {
   "cell_type": "code",
   "execution_count": null,
   "metadata": {},
   "outputs": [],
   "source": []
  }
 ],
 "metadata": {
  "kernelspec": {
   "display_name": "Python 3.8.13 ('plugins')",
   "language": "python",
   "name": "python3"
  },
  "language_info": {
   "codemirror_mode": {
    "name": "ipython",
    "version": 3
   },
   "file_extension": ".py",
   "mimetype": "text/x-python",
   "name": "python",
   "nbconvert_exporter": "python",
   "pygments_lexer": "ipython3",
   "version": "3.8.15"
  },
  "vscode": {
   "interpreter": {
    "hash": "4b35b7b18c0ab6f6c98a05129e5c1ef751b6356b18056bdc8c680d7f4a0d63d2"
   }
  }
 },
 "nbformat": 4,
 "nbformat_minor": 2
}
