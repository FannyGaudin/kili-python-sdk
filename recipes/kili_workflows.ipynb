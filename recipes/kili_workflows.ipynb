{
 "cells": [
  {
   "cell_type": "markdown",
   "metadata": {},
   "source": [
    "# How to set up workflows with Kili"
   ]
  },
  {
   "cell_type": "markdown",
   "metadata": {},
   "source": [
    "In this tutorial, we'll learn how to set up basic Kili workflows:\n",
    "\n",
    "1. [Managing reviews](#-Managing-reviews)\n",
    "    1. [Placing a specific percentage of project assets in the review queue](#-Placing-a-specific-percentage-of-project-assets-in-the-review-queue)\n",
    "    1. [Placing specific assets in the review queue](#-Placing-specific-assets-in-the-review-queue)\n",
    "    1. [Sending an asset back to the labeling queue](#-Sending-an-asset-back-to-the-labeling-queue)\n",
    "1. [Setting up consensus](#-Setting-up-consensus)\n",
    "    1. [Assigning a specific percentage of project assets for consensus](#-Assigning-a-specific-percentage-of-project-assets-for-consensus)\n",
    "    1. [Assigning specific assets for computing consensus KPIs](#-Assigning-specific-assets-for-computing-consensus-KPIs)\n",
    "1. [Setting up honeypot](#-Setting-up-honeypot)\n",
    "1. [Assigning labelers to assets](#-Assigning-labelers-to-assets)\n",
    "1. [Prioritizing assets in the labeling queue](#-Prioritizing-assets-in-the-labeling-queue)"
   ]
  },
  {
   "cell_type": "markdown",
   "metadata": {},
   "source": [
    "To work with this notebook, you'll have to install and instantiate Kili."
   ]
  },
  {
   "cell_type": "code",
   "execution_count": null,
   "metadata": {},
   "outputs": [],
   "source": [
    "!pip install --upgrade kili\n",
    "from kili.client import Kili\n",
    "import getpass"
   ]
  },
  {
   "cell_type": "code",
   "execution_count": null,
   "metadata": {},
   "outputs": [],
   "source": [
    "KILI_API_KEY = getpass.getpass(\"Please enter your API key: \")"
   ]
  },
  {
   "cell_type": "code",
   "execution_count": null,
   "metadata": {},
   "outputs": [],
   "source": [
    "kili = Kili(\n",
    "    api_key=KILI_API_KEY,\n",
    "    # api_endpoint=\"https://cloud.kili-technology.com/api/label/v2/graphql\", \n",
    "    # the line above can be uncommented and changed if you are working with an on-premise version of Kili\n",
    ")"
   ]
  },
  {
   "cell_type": "code",
   "execution_count": null,
   "metadata": {},
   "outputs": [],
   "source": [
    "project_id = <TYPE_YOUR_PROJECT_ID_HERE>"
   ]
  },
  {
   "cell_type": "markdown",
   "metadata": {},
   "source": [
    "For information on how to set up a Kili project, refer to the `basic_project_setup.ipynb` tutorial."
   ]
  },
  {
   "cell_type": "markdown",
   "metadata": {},
   "source": [
    "## Managing reviews"
   ]
  },
  {
   "cell_type": "markdown",
   "metadata": {},
   "source": [
    "### Placing a specific percentage of project assets in the review queue "
   ]
  },
  {
   "cell_type": "markdown",
   "metadata": {},
   "source": [
    "You can set up the percentage of assets that will automatically appear in the review queue (1-100%).\n",
    "In our example, we'll assign 50% of all project assets for review."
   ]
  },
  {
   "cell_type": "code",
   "execution_count": null,
   "metadata": {},
   "outputs": [],
   "source": [
    "kili.update_properties_in_project(project_id=project_id, review_coverage=50)"
   ]
  },
  {
   "cell_type": "markdown",
   "metadata": {},
   "source": [
    "Just to make sure that we got it right, let's check on our project's review coverage value:"
   ]
  },
  {
   "cell_type": "code",
   "execution_count": null,
   "metadata": {},
   "outputs": [],
   "source": [
    "review_coverage = kili.projects(project_id=project_id, fields=['reviewCoverage'])\n",
    "print(f'The review coverage set up for project id {project_id} is {review_coverage[0][\"reviewCoverage\"]}%.')"
   ]
  },
  {
   "cell_type": "markdown",
   "metadata": {},
   "source": [
    "### Placing specific assets in the review queue"
   ]
  },
  {
   "cell_type": "markdown",
   "metadata": {},
   "source": [
    "You can choose to set specific assets to be placed in the review queue. First, let's access the list your available assets:"
   ]
  },
  {
   "cell_type": "code",
   "execution_count": null,
   "metadata": {},
   "outputs": [],
   "source": [
    "kili.assets(project_id=project_id)"
   ]
  },
  {
   "cell_type": "markdown",
   "metadata": {},
   "source": [
    "IMPORTANT:\n",
    "- Use Kili's internal asset IDs ('id' field)\n",
    "- Only labeled assets may be assigned for review ('status': 'LABELED'})\n",
    "\n",
    "For example purposes, we'll simulate adding some labels to one of the assets. To make things simple, we'll use the first asset:"
   ]
  },
  {
   "cell_type": "code",
   "execution_count": null,
   "metadata": {},
   "outputs": [],
   "source": [
    "asset_id = kili.assets(project_id=project_id)[0]['id']\n",
    "print(f'Selected asset ID is: {asset_id}.')"
   ]
  },
  {
   "cell_type": "markdown",
   "metadata": {},
   "source": [
    "Now, let's append a simple label to the asset:"
   ]
  },
  {
   "cell_type": "code",
   "execution_count": null,
   "metadata": {},
   "outputs": [],
   "source": [
    "kili.append_labels(asset_id_array=[asset_id], json_response_array=[{'JOB_0': {'categories': [{'confidence': 100, 'name': 'OBJECT_B'}]}}], label_type='DEFAULT')"
   ]
  },
  {
   "cell_type": "markdown",
   "metadata": {},
   "source": [
    "Note that we 're using lists here, so if you want to add labels to more than one asset, you simply need to add more items to the list. For example:\n",
    "\n",
    "```\n",
    "kili.append_labels(asset_id_array=[asset_id, asset_id2], json_response_array=[{'JOB_0': {'categories': [{'confidence': 100, 'name': 'OBJECT_B'}]}}, {'JOB_0': {'categories': [{'confidence': 100, 'name': 'OBJECT_A'}]}}], label_type='DEFAULT')\n",
    "```"
   ]
  },
  {
   "cell_type": "markdown",
   "metadata": {},
   "source": [
    "Let's check the newly-added label:"
   ]
  },
  {
   "cell_type": "code",
   "execution_count": null,
   "metadata": {},
   "outputs": [],
   "source": [
    "kili.assets(project_id=project_id, asset_id=asset_id, fields=['labels.jsonResponse'])"
   ]
  },
  {
   "cell_type": "markdown",
   "metadata": {},
   "source": [
    "We've added a label so we can now set the asset for review."
   ]
  },
  {
   "cell_type": "code",
   "execution_count": null,
   "metadata": {},
   "outputs": [],
   "source": [
    "kili.add_to_review([asset_id])"
   ]
  },
  {
   "cell_type": "markdown",
   "metadata": {},
   "source": [
    "Again, if you'd like to set more assets for review, simply add more items to the list:\n",
    "\n",
    "```\n",
    "kili.add_to_review([asset_id, asset_id2])\n",
    "```"
   ]
  },
  {
   "cell_type": "markdown",
   "metadata": {},
   "source": [
    "Let's make sure we've done it right:"
   ]
  },
  {
   "cell_type": "code",
   "execution_count": null,
   "metadata": {},
   "outputs": [],
   "source": [
    "asset_status = kili.assets(project_id=project_id, asset_id=asset_id, fields=['status'])\n",
    "print(f'The status for asset ID {project_id} is {asset_status[0][\"status\"]}.')"
   ]
  },
  {
   "cell_type": "markdown",
   "metadata": {},
   "source": [
    "For more information on asset statuses, refer to our [documentation](https://docs.kili-technology.com/docs/asset-lifecycle)."
   ]
  },
  {
   "cell_type": "markdown",
   "metadata": {},
   "source": [
    "### Sending an asset back to the labeling queue"
   ]
  },
  {
   "cell_type": "markdown",
   "metadata": {},
   "source": [
    "You can send a specific labeled asset back to the labeling queue.\n",
    "First, let's access the list of your available assets:"
   ]
  },
  {
   "cell_type": "code",
   "execution_count": null,
   "metadata": {},
   "outputs": [],
   "source": [
    "kili.assets(project_id=project_id)"
   ]
  },
  {
   "cell_type": "markdown",
   "metadata": {},
   "source": [
    "For example purposes, we'll select the first asset:"
   ]
  },
  {
   "cell_type": "code",
   "execution_count": null,
   "metadata": {},
   "outputs": [],
   "source": [
    "asset_id = kili.assets(project_id=project_id)[0]['id']\n",
    "print(f'Selected asset ID is: {asset_id}.')"
   ]
  },
  {
   "cell_type": "markdown",
   "metadata": {},
   "source": [
    "Let's simulate adding a label to the asset:"
   ]
  },
  {
   "cell_type": "code",
   "execution_count": null,
   "metadata": {},
   "outputs": [],
   "source": [
    "kili.append_labels(asset_id_array=[asset_id], json_response_array=[{'JOB_0': {'categories': [{'confidence': 100, 'name': 'OBJECT_B'}]}}], label_type='DEFAULT')"
   ]
  },
  {
   "cell_type": "markdown",
   "metadata": {},
   "source": [
    "Note that we 're using lists here, so if you want to add labels to more than one asset, you simply need to add more items to the list. For example:\n",
    "\n",
    "```\n",
    "kili.append_labels(asset_id_array=[asset_id, asset_id2], json_response_array=[{'JOB_0': {'categories': [{'confidence': 100, 'name': 'OBJECT_B'}]}}, {'JOB_0': {'categories': [{'confidence': 100, 'name': 'OBJECT_A'}]}}], label_type='DEFAULT')\n",
    "```"
   ]
  },
  {
   "cell_type": "markdown",
   "metadata": {},
   "source": [
    "... and make sure we got it right:"
   ]
  },
  {
   "cell_type": "code",
   "execution_count": null,
   "metadata": {},
   "outputs": [],
   "source": [
    "kili.assets(project_id=project_id, asset_id=asset_id, fields=['labels.jsonResponse'])"
   ]
  },
  {
   "cell_type": "markdown",
   "metadata": {},
   "source": [
    "Now, we'll send this asset back to the labeling queue:"
   ]
  },
  {
   "cell_type": "code",
   "execution_count": null,
   "metadata": {},
   "outputs": [],
   "source": [
    "kili.send_back_to_queue(asset_ids=[asset_id])"
   ]
  },
  {
   "cell_type": "markdown",
   "metadata": {},
   "source": [
    "Again, if you need to, you can send more assets at once:\n",
    "\n",
    "```\n",
    "kili.send_back_to_queue(asset_ids=[asset_id, asset_id2])\n",
    "```"
   ]
  },
  {
   "cell_type": "markdown",
   "metadata": {},
   "source": [
    "The new status for the asset should be \"ONGOING\". "
   ]
  },
  {
   "cell_type": "code",
   "execution_count": null,
   "metadata": {},
   "outputs": [],
   "source": [
    "asset_status = kili.assets(project_id=project_id, asset_id=asset_id, fields=['status'])\n",
    "print(f'The status for asset ID {asset_id} is {asset_status[0][\"status\"]}.')"
   ]
  },
  {
   "cell_type": "markdown",
   "metadata": {},
   "source": [
    "For more information on asset statuses, refer to our [documentation](https://docs.kili-technology.com/docs/asset-lifecycle)."
   ]
  },
  {
   "cell_type": "markdown",
   "metadata": {},
   "source": [
    "## Setting up consensus"
   ]
  },
  {
   "cell_type": "markdown",
   "metadata": {},
   "source": [
    "Consensus works by having more than one labeler annotate the same asset. When the asset is labeled, a consensus score is calculated to measure the agreement level between the different annotations for a given asset. This is a key measure for controlling label production quality.\n",
    "\n",
    "To set up consensus, you'll need to have at least two project members.\n",
    "Let's check how many users we currently have in our project:"
   ]
  },
  {
   "cell_type": "code",
   "execution_count": null,
   "metadata": {},
   "outputs": [],
   "source": [
    "kili.count_project_users(project_id=project_id)"
   ]
  },
  {
   "cell_type": "markdown",
   "metadata": {},
   "source": [
    "For information on how to add users and assign them to your project, refer to the `basic_project_setup.ipynb` tutorial."
   ]
  },
  {
   "cell_type": "markdown",
   "metadata": {},
   "source": [
    "### Assigning a specific percentage of project assets for consensus"
   ]
  },
  {
   "cell_type": "markdown",
   "metadata": {},
   "source": [
    "Let's assign the total percentage of all assets that will have to be labeled by more than one reviewer. To make things simple, we'll set consensus to all of the assets (100%):"
   ]
  },
  {
   "cell_type": "code",
   "execution_count": null,
   "metadata": {},
   "outputs": [],
   "source": [
    "kili.update_properties_in_project(project_id=project_id, consensus_tot_coverage=100)"
   ]
  },
  {
   "cell_type": "markdown",
   "metadata": {},
   "source": [
    "Just to be sure, we'll verify this:"
   ]
  },
  {
   "cell_type": "code",
   "execution_count": null,
   "metadata": {},
   "outputs": [],
   "source": [
    "cons_tot_coverage = kili.projects(project_id=project_id, fields=[\"consensusTotCoverage\"])\n",
    "print(f'The consensus coverage for project ID {project_id} is {cons_tot_coverage[0][\"consensusTotCoverage\"]}%.')"
   ]
  },
  {
   "cell_type": "markdown",
   "metadata": {},
   "source": [
    "### Assigning specific assets for computing consensus KPIs"
   ]
  },
  {
   "cell_type": "markdown",
   "metadata": {},
   "source": [
    "You can manually select specific project assets to be used for computing consensus KPIs. First, let's access the list of your available assets:"
   ]
  },
  {
   "cell_type": "code",
   "execution_count": null,
   "metadata": {},
   "outputs": [],
   "source": [
    "kili.assets(project_id=project_id)"
   ]
  },
  {
   "cell_type": "markdown",
   "metadata": {},
   "source": [
    "For example purposes, we'll select the first asset:"
   ]
  },
  {
   "cell_type": "code",
   "execution_count": null,
   "metadata": {},
   "outputs": [],
   "source": [
    "asset_id = kili.assets(project_id=project_id)[0]['id']\n",
    "print(f'Selected asset ID is: {asset_id}.')"
   ]
  },
  {
   "cell_type": "markdown",
   "metadata": {},
   "source": [
    "Now, let's assign this asset for consensus KPIs:"
   ]
  },
  {
   "cell_type": "code",
   "execution_count": null,
   "metadata": {},
   "outputs": [],
   "source": [
    "kili.update_properties_in_assets(asset_ids=[asset_id], is_used_for_consensus_array=[True])"
   ]
  },
  {
   "cell_type": "markdown",
   "metadata": {},
   "source": [
    "Note that you can operate on more than one asset at once. For example:\n",
    "\n",
    "```\n",
    "kili.update_properties_in_assets(asset_ids=[asset_id, asset_id2], is_used_for_consensus_array=[True, False])\n",
    "```"
   ]
  },
  {
   "cell_type": "markdown",
   "metadata": {},
   "source": [
    "Let's check if everything's correct:"
   ]
  },
  {
   "cell_type": "code",
   "execution_count": null,
   "metadata": {},
   "outputs": [],
   "source": [
    "is_used_for_consensus = kili.assets(project_id=project_id, asset_id=asset_id, fields=[\"isUsedForConsensus\"])\n",
    "print(f'Asset ID: {asset_id} is used for consensus: {is_used_for_consensus[0][\"isUsedForConsensus\"]}.')"
   ]
  },
  {
   "cell_type": "markdown",
   "metadata": {},
   "source": [
    "For more information on consensus, refer to our [documentation](https://docs.kili-technology.com/docs/consensus-overview)."
   ]
  },
  {
   "cell_type": "markdown",
   "metadata": {},
   "source": [
    "## Setting up honeypot"
   ]
  },
  {
   "cell_type": "markdown",
   "metadata": {},
   "source": [
    "Honeypot (or __gold standard__) is a tool for auditing the work of labelers by measuring the accuracy of their annotations.\n",
    "Honeypot works by interspersing assets with defined ground truth label in the annotation queue. This way you can measure the agreement level between your ground truth and the annotations made by labelers.\n",
    "\n",
    "You can manually select specific project assets to be used as honeypots.\n",
    "First, let's access the list of your available assets:"
   ]
  },
  {
   "cell_type": "code",
   "execution_count": null,
   "metadata": {},
   "outputs": [],
   "source": [
    "kili.assets(project_id=project_id)"
   ]
  },
  {
   "cell_type": "markdown",
   "metadata": {},
   "source": [
    "For example purposes, we'll select the first asset:"
   ]
  },
  {
   "cell_type": "code",
   "execution_count": null,
   "metadata": {},
   "outputs": [],
   "source": [
    "asset_id = kili.assets(project_id=project_id)[0]['id']\n",
    "print(f'Selected asset ID is: {asset_id}.')"
   ]
  },
  {
   "cell_type": "markdown",
   "metadata": {},
   "source": [
    "Now, let's assign this asset as a honeypot:"
   ]
  },
  {
   "cell_type": "code",
   "execution_count": null,
   "metadata": {},
   "outputs": [],
   "source": [
    "kili.update_properties_in_assets(asset_ids=[asset_id], is_honeypot_array=[True])"
   ]
  },
  {
   "cell_type": "markdown",
   "metadata": {},
   "source": [
    "Note that you can assign more than one asset at once. For example:\n",
    "\n",
    "```\n",
    "kili.update_properties_in_assets(asset_ids=[asset_id, asset_id2], is_honeypot_array=[True, False])\n",
    "```"
   ]
  },
  {
   "cell_type": "markdown",
   "metadata": {},
   "source": [
    "... and now let's verify:"
   ]
  },
  {
   "cell_type": "code",
   "execution_count": null,
   "metadata": {},
   "outputs": [],
   "source": [
    "is_used_as_honeypot = kili.assets(project_id=project_id, asset_id=asset_id, fields=[\"isHoneypot\"])\n",
    "print(f'Asset ID: {asset_id} is used as honeypot: {is_used_as_honeypot[0][\"isHoneypot\"]}.')"
   ]
  },
  {
   "cell_type": "markdown",
   "metadata": {},
   "source": [
    "For more information on honeypot, refer to our [documentation](https://docs.kili-technology.com/docs/consensus-overview)."
   ]
  },
  {
   "cell_type": "markdown",
   "metadata": {},
   "source": [
    "## Assigning labelers to assets"
   ]
  },
  {
   "cell_type": "markdown",
   "metadata": {},
   "source": [
    "You can assign specific labelers to specific assets in your project.\n",
    "First, let's find out what the IDs of our users are:"
   ]
  },
  {
   "cell_type": "code",
   "execution_count": null,
   "metadata": {},
   "outputs": [],
   "source": [
    "all_users = kili.project_users(project_id=project_id)\n",
    "print(all_users)"
   ]
  },
  {
   "cell_type": "markdown",
   "metadata": {},
   "source": [
    "For information on how to add users and assign them to your project, refer to the `basic_project_setup.ipynb` tutorial."
   ]
  },
  {
   "cell_type": "markdown",
   "metadata": {},
   "source": [
    "For example purposes, we'll select our first user:"
   ]
  },
  {
   "cell_type": "code",
   "execution_count": null,
   "metadata": {},
   "outputs": [],
   "source": [
    "user_email = all_users[0]['user']['email']\n",
    "print(f\"Our selected user's email is: {user_email}\")"
   ]
  },
  {
   "cell_type": "markdown",
   "metadata": {},
   "source": [
    "Now, we'll select the first asset from a list of available assets:"
   ]
  },
  {
   "cell_type": "code",
   "execution_count": null,
   "metadata": {},
   "outputs": [],
   "source": [
    "kili.assets(project_id=project_id)\n",
    "asset_id = kili.assets(project_id=project_id)[0]['id']\n",
    "print(f'Selected asset ID is: {asset_id}.')"
   ]
  },
  {
   "cell_type": "markdown",
   "metadata": {},
   "source": [
    "The last thing to do is to assign the user email to the selected asset ID:"
   ]
  },
  {
   "cell_type": "code",
   "execution_count": null,
   "metadata": {},
   "outputs": [],
   "source": [
    "kili.update_properties_in_assets(asset_ids=[asset_id], to_be_labeled_by_array=[[user_email]])"
   ]
  },
  {
   "cell_type": "markdown",
   "metadata": {},
   "source": [
    "Note that you can update more than one asset at once. For example:\n",
    "\n",
    "```\n",
    "kili.update_properties_in_assets(asset_ids=[asset_id, asset_id2], to_be_labeled_by_array=[[user_email, user_email2]])\n",
    "```"
   ]
  },
  {
   "cell_type": "markdown",
   "metadata": {},
   "source": [
    "Let's verify that:"
   ]
  },
  {
   "cell_type": "code",
   "execution_count": null,
   "metadata": {},
   "outputs": [],
   "source": [
    "to_be_labeled_by = kili.assets(project_id=project_id, asset_id=asset_id, fields=[\"isToBeLabeledBy\"])\n",
    "print(f'Asset ID: {asset_id} is is set to be labeled by: {to_be_labeled_by[0][\"isToBeLabeledBy\"]}.')"
   ]
  },
  {
   "cell_type": "markdown",
   "metadata": {},
   "source": [
    "For information on assigning assets to users, refer to our [documentation](https://docs.kili-technology.com/docs/queue-prioritization)."
   ]
  },
  {
   "cell_type": "markdown",
   "metadata": {},
   "source": [
    "## Prioritizing assets in the labeling queue"
   ]
  },
  {
   "cell_type": "markdown",
   "metadata": {},
   "source": [
    "If you have certain assets that you need to have labeled earlier than the rest, you can use Kili's asset prioritization methods.\n",
    "For example purposes, we'll select the first asset in our project:"
   ]
  },
  {
   "cell_type": "code",
   "execution_count": null,
   "metadata": {},
   "outputs": [],
   "source": [
    "kili.assets(project_id=project_id)\n",
    "asset_id = kili.assets(project_id=project_id)[0]['id']\n",
    "print(f'Selected asset ID is: {asset_id}.')"
   ]
  },
  {
   "cell_type": "markdown",
   "metadata": {},
   "source": [
    "Now, all that's left to do is to set specific priorities to assets:"
   ]
  },
  {
   "cell_type": "code",
   "execution_count": null,
   "metadata": {},
   "outputs": [],
   "source": [
    "kili.update_properties_in_assets(asset_ids=[asset_id], priorities=[1])"
   ]
  },
  {
   "cell_type": "markdown",
   "metadata": {},
   "source": [
    "For your convenience, you can update priorities for more than one asset at once. For example:\n",
    "\n",
    "```\n",
    "kili.update_properties_in_assets(asset_ids=[asset_id, asst_id2], priorities=[1, 10])\n",
    "```"
   ]
  },
  {
   "cell_type": "markdown",
   "metadata": {},
   "source": [
    "Let's verify that:"
   ]
  },
  {
   "cell_type": "code",
   "execution_count": null,
   "metadata": {},
   "outputs": [],
   "source": [
    "priority = kili.assets(project_id=project_id, asset_id=asset_id, fields=[\"priority\"])\n",
    "print(f'Asset ID: {asset_id} is is set as priority: {priority[0][\"priority\"]}.')"
   ]
  },
  {
   "cell_type": "markdown",
   "metadata": {},
   "source": [
    "For information on setting asset priorities, refer to our [documentation](https://docs.kili-technology.com/docs/queue-prioritization)."
   ]
  },
  {
   "cell_type": "markdown",
   "metadata": {},
   "source": [
    "## Summary"
   ]
  },
  {
   "cell_type": "markdown",
   "metadata": {},
   "source": [
    "Done. We've learned how to handle the review workflow, set up consensus and honeypot in a project, assign specific labelers to specific assets, and how to prioritize assets in the labeling queue. Well done!"
   ]
  }
 ],
 "metadata": {
  "kernelspec": {
   "display_name": "Python 3.7.13 ('python-sdk')",
   "language": "python",
   "name": "python3"
  },
  "language_info": {
   "codemirror_mode": {
    "name": "ipython",
    "version": 3
   },
   "file_extension": ".py",
   "mimetype": "text/x-python",
   "name": "python",
   "nbconvert_exporter": "python",
   "pygments_lexer": "ipython3",
   "version": "3.10.2"
  },
  "orig_nbformat": 4,
  "vscode": {
   "interpreter": {
    "hash": "de396e6bb0ca1b0abec04a877b6eb6711952a215fc7f5dc02d30f83999f7a5a6"
   }
  }
 },
 "nbformat": 4,
 "nbformat_minor": 2
}
